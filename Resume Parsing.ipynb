{
 "cells": [
  {
   "cell_type": "code",
   "execution_count": 2,
   "metadata": {
    "collapsed": true
   },
   "outputs": [],
   "source": [
    "import tika\n",
    "from tika import parser\n",
    "import re"
   ]
  },
  {
   "cell_type": "code",
   "execution_count": 34,
   "metadata": {},
   "outputs": [
    {
     "name": "stdout",
     "output_type": "stream",
     "text": [
      "Name:\n",
      "\n",
      "John Williams\n",
      "\n",
      "Ph no:\n",
      "\n",
      "['9912341209']\n",
      "Email:\n",
      "\n",
      "['qwerty.eg@mail.com']\n",
      "Address:\n",
      "\n",
      "['Address: H No:33-34/2, Chanakya Arcade,Sai Nath Colony Road No:4,Dsnr, Hyderabad                                      ']\n"
     ]
    }
   ],
   "source": [
    "class ResumeParsing:\n",
    "    def run():\n",
    "        tika.initVM()\n",
    "        parsed=parser.from_file(\"Resume-E6.docx\")\n",
    "        info=parsed[\"content\"]\n",
    "        #print(info)\n",
    "        \n",
    "        regexn=r'(([A-Z].?\\s?)*([A-Z][a-z]+\\s?)+)'\n",
    "        \n",
    "        matchn=re.findall(regexn,info)\n",
    "        print('Name:\\n')\n",
    "        print(matchn[1][0])\n",
    "        #regexp=r'\\+?\\d[\\d -]{8,12}\\d$'\n",
    "        regexp=r'[+0-9]{10,13}'\n",
    "        matchp=re.findall(regexp,info)\n",
    "        print('Ph no:\\n')\n",
    "        print(matchp)\n",
    "        \n",
    "        regexe=r'\\b[\\w.-]+?@\\w+?\\.\\w+?\\b'\n",
    "        matche=re.findall(regexe,info)\n",
    "        print('Email:\\n')\n",
    "        print(matche)\n",
    "        regexa=r'Address[\\w /,-: ]+[ .]'\n",
    "        matcha=re.findall(regexa,info)\n",
    "        print('Address:\\n')\n",
    "        print(matcha)\n",
    "    if __name__ ==\"__main__\"   :\n",
    "        run()"
   ]
  },
  {
   "cell_type": "code",
   "execution_count": null,
   "metadata": {
    "collapsed": true
   },
   "outputs": [],
   "source": []
  }
 ],
 "metadata": {
  "kernelspec": {
   "display_name": "Python 3",
   "language": "python",
   "name": "python3"
  },
  "language_info": {
   "codemirror_mode": {
    "name": "ipython",
    "version": 3
   },
   "file_extension": ".py",
   "mimetype": "text/x-python",
   "name": "python",
   "nbconvert_exporter": "python",
   "pygments_lexer": "ipython3",
   "version": "3.6.1"
  }
 },
 "nbformat": 4,
 "nbformat_minor": 2
}
